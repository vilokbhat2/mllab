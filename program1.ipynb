{
 "cells": [
  {
   "cell_type": "code",
   "execution_count": 1,
   "id": "24f665c7",
   "metadata": {},
   "outputs": [],
   "source": [
    "import statistics as np\n",
    "import math\n",
    "import numpy as np1\n",
    "from sklearn import preprocessing as p"
   ]
  },
  {
   "cell_type": "code",
   "execution_count": 2,
   "id": "c29aaa34",
   "metadata": {},
   "outputs": [],
   "source": [
    "l1=np1.array([115.3, 115.3, 195.5, 120.5, 110.2, 90.4, 105.6, 110.9, 116.3, 122.3, 125.4])\n",
    "l=len(l1)\n",
    "s=sum(l1)\n"
   ]
  },
  {
   "cell_type": "code",
   "execution_count": 3,
   "id": "d39162b4",
   "metadata": {},
   "outputs": [
    {
     "name": "stdout",
     "output_type": "stream",
     "text": [
      "mean:  120.7\n",
      "mean:  120.7\n",
      "\n",
      "\n"
     ]
    }
   ],
   "source": [
    "mean=s/l\n",
    "print(\"mean: \",mean)\n",
    "\n",
    "mean2=np.mean(l1)\n",
    "print(\"mean: \",mean2)\n",
    "print(\"\\n\")"
   ]
  },
  {
   "cell_type": "code",
   "execution_count": 4,
   "id": "b7c51665",
   "metadata": {},
   "outputs": [
    {
     "name": "stdout",
     "output_type": "stream",
     "text": [
      "median:  115.3\n",
      "median:  115.3\n",
      "\n",
      "\n"
     ]
    }
   ],
   "source": [
    "#median\n",
    "l1.sort()\n",
    "if l%2==0:\n",
    "    med1=l1[l//2]\n",
    "    med2=l1[l//2 - 1]\n",
    "    med=(med1+med2)/2\n",
    "else:\n",
    "    med=l1[l//2]\n",
    "print(\"median: \",med)\n",
    "\n",
    "mdn=np.median(l1)\n",
    "print(\"median: \",mdn)\n",
    "print(\"\\n\")"
   ]
  },
  {
   "cell_type": "code",
   "execution_count": 6,
   "id": "31e7c764",
   "metadata": {},
   "outputs": [
    {
     "name": "stdout",
     "output_type": "stream",
     "text": [
      "[115.3]\n",
      "mode:  115.3\n",
      "\n",
      "\n"
     ]
    }
   ],
   "source": [
    "#MODE\n",
    "uniq=[]\n",
    "mod=[]\n",
    "for i in l1:\n",
    "    if i not in uniq:\n",
    "        uniq.append(i)\n",
    "    else:\n",
    "        mod.append(i)\n",
    "print(mod)\n",
    "\n",
    "modee=np.mode(l1)\n",
    "print(\"mode: \",modee)\n",
    "print(\"\\n\")\n"
   ]
  },
  {
   "cell_type": "code",
   "execution_count": 7,
   "id": "ee781040",
   "metadata": {},
   "outputs": [
    {
     "name": "stdout",
     "output_type": "stream",
     "text": [
      "standard deviation:  26.551459470243817\n",
      "standard deviation:  26.551459470243817\n",
      "\n",
      "\n"
     ]
    }
   ],
   "source": [
    "#standard deviation\n",
    "std=np.stdev(l1)\n",
    "print(\"standard deviation: \",std)\n",
    "SUM= 0\n",
    "for i in l1 :\n",
    "    SUM +=(i-mean)**2\n",
    "\n",
    "stdeV = math.sqrt(SUM/(len(l1)-1))\n",
    "print(\"standard deviation: \",stdeV)\n",
    "print(\"\\n\")"
   ]
  },
  {
   "cell_type": "code",
   "execution_count": 8,
   "id": "d70ece4f",
   "metadata": {},
   "outputs": [
    {
     "name": "stdout",
     "output_type": "stream",
     "text": [
      "Variance 704.98\n",
      "\n",
      "\n"
     ]
    }
   ],
   "source": [
    "var=stdeV**2\n",
    "print(\"Variance\",var)\n",
    "print(\"\\n\")"
   ]
  },
  {
   "cell_type": "code",
   "execution_count": 9,
   "id": "c240f891",
   "metadata": {},
   "outputs": [
    {
     "name": "stdout",
     "output_type": "stream",
     "text": [
      "std [[0.        ]\n",
      " [0.14462417]\n",
      " [0.18839201]\n",
      " [0.19505233]\n",
      " [0.23691722]\n",
      " [0.23691722]\n",
      " [0.24643197]\n",
      " [0.28639391]\n",
      " [0.30352046]\n",
      " [0.33301618]\n",
      " [1.        ]]\n",
      "\n",
      "\n",
      "Min-Max Normalization: [0.         0.14462417 0.18839201 0.19505233 0.23691722 0.23691722\n",
      " 0.24643197 0.28639391 0.30352046 0.33301618 1.        ]\n"
     ]
    }
   ],
   "source": [
    "#min-max normalization\n",
    "std1=p.MinMaxScaler()\n",
    "normalizedData = std1.fit_transform(l1.reshape(-1,1))\n",
    "print('std',normalizedData)\n",
    "print('\\n')\n",
    "\n",
    "min_max_norm = (l1 - np1.min(l1)) / ( np1.max(l1) - np1.min(l1))\n",
    "print(\"Min-Max Normalization:\", min_max_norm)"
   ]
  },
  {
   "cell_type": "code",
   "execution_count": 10,
   "id": "b752cce5",
   "metadata": {},
   "outputs": [
    {
     "name": "stdout",
     "output_type": "stream",
     "text": [
      "Min-Max Normalization: [0.0, 0.14462416745956222, 0.18839200761179828, 0.1950523311132255, 0.23691722169362506, 0.23691722169362506, 0.24643196955280677, 0.2863939105613701, 0.3035204567078972, 0.3330161750713606, 1.0]\n",
      "\n",
      "\n"
     ]
    }
   ],
   "source": [
    "#without built-in\n",
    "min_value = min(l1)\n",
    "max_value = max(l1)\n",
    "min_max_norm = [(value - min_value) / (max_value - min_value) for value in l1]\n",
    "print(\"Min-Max Normalization:\", min_max_norm)\n",
    "print(\"\\n\")"
   ]
  },
  {
   "cell_type": "code",
   "execution_count": 11,
   "id": "d5845d26",
   "metadata": {},
   "outputs": [
    {
     "name": "stdout",
     "output_type": "stream",
     "text": [
      "Standardization: [-1.1968798978892348, -0.5964648996081666, -0.41476036065468497, -0.3871096699443725, -0.2133053283366951, -0.2133053283366951, -0.1738043416076774, -0.007900197345803085, 0.06320157876642861, 0.18565463762638373, 2.9546738073305225]\n",
      "Using Inbuilt function of standardization \n",
      "Standardization: [-1.1968799  -0.5964649  -0.41476036 -0.38710967 -0.21330533 -0.21330533\n",
      " -0.17380434 -0.0079002   0.06320158  0.18565464  2.95467381]\n"
     ]
    }
   ],
   "source": [
    "#standardization\n",
    "mean = sum(l1) / len(l1)\n",
    "variance = sum((value - mean) ** 2 for value in l1) / len(l1)\n",
    "standardization = [(value - mean) / variance ** 0.5 for value in l1]\n",
    "print(\"Standardization:\", standardization)\n",
    "print(\"Using Inbuilt function of standardization \")\n",
    "standardization = (l1 - np1.mean(l1)) / np1.std(l1)\n",
    "print(\"Standardization:\", standardization)"
   ]
  },
  {
   "cell_type": "code",
   "execution_count": null,
   "id": "4dc77a88",
   "metadata": {},
   "outputs": [],
   "source": []
  }
 ],
 "metadata": {
  "kernelspec": {
   "display_name": "Python 3 (ipykernel)",
   "language": "python",
   "name": "python3"
  },
  "language_info": {
   "codemirror_mode": {
    "name": "ipython",
    "version": 3
   },
   "file_extension": ".py",
   "mimetype": "text/x-python",
   "name": "python",
   "nbconvert_exporter": "python",
   "pygments_lexer": "ipython3",
   "version": "3.9.13"
  }
 },
 "nbformat": 4,
 "nbformat_minor": 5
}
