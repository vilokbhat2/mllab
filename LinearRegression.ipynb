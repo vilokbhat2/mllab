{
 "cells": [
  {
   "cell_type": "code",
   "execution_count": 1,
   "id": "8b27a2de",
   "metadata": {},
   "outputs": [],
   "source": [
    "import numpy as np\n",
    "import pandas as pd\n",
    "import matplotlib.pyplot as plt\n",
    "from sklearn.linear_model import LinearRegression"
   ]
  },
  {
   "cell_type": "code",
   "execution_count": null,
   "id": "e7ce05c2",
   "metadata": {},
   "outputs": [],
   "source": [
    "# Load the dataset from a CSV file\n",
    "data = pd.read_csv(\"C:/Users/91988/OneDrive/Desktop/7th Sem/mlLab/Food-Truck-LineReg.csv\")"
   ]
  },
  {
   "cell_type": "code",
   "execution_count": null,
   "id": "5a6f8881",
   "metadata": {},
   "outputs": [],
   "source": [
    "# Extract the features 'x' and 'y'\n",
    "x = data['x']\n",
    "y = data['y']"
   ]
  },
  {
   "cell_type": "code",
   "execution_count": null,
   "id": "0cf411f6",
   "metadata": {},
   "outputs": [],
   "source": [
    "# Generate a scatter plot\n",
    "plt.scatter(x, y)\n",
    "m, b = np.polyfit(x, y, 1)\n",
    "plt.plot(x, m*x + b)\n",
    "plt.xlabel('x')\n",
    "plt.ylabel('y')\n",
    "plt.title('Scatter Plot of x vs y')\n",
    "plt.show()"
   ]
  },
  {
   "cell_type": "code",
   "execution_count": null,
   "id": "68d2e7eb",
   "metadata": {},
   "outputs": [],
   "source": [
    "# Compute the correlation matrix\n",
    "correlation_matrix = np.corrcoef(x, y)\n",
    "print('Correlation Matrix:')\n",
    "print(correlation_matrix)"
   ]
  },
  {
   "cell_type": "code",
   "execution_count": null,
   "id": "4d79714a",
   "metadata": {},
   "outputs": [],
   "source": [
    "# Reshape the features for linear regression\n",
    "x = x.values.reshape(-1, 1)"
   ]
  },
  {
   "cell_type": "code",
   "execution_count": null,
   "id": "aa2704de",
   "metadata": {},
   "outputs": [],
   "source": [
    "# Perform linear regression\n",
    "regression_model = LinearRegression()\n",
    "regression_model.fit(x, y)\n",
    "slope = regression_model.coef_[0]\n",
    "intercept = regression_model.intercept_"
   ]
  },
  {
   "cell_type": "code",
   "execution_count": null,
   "id": "fe0d2fb2",
   "metadata": {},
   "outputs": [],
   "source": [
    "# Predicted values using the regression line\n",
    "y_pred = regression_model.predict(x)"
   ]
  },
  {
   "cell_type": "code",
   "execution_count": null,
   "id": "34d9a677",
   "metadata": {},
   "outputs": [],
   "source": [
    "# Calculate metrics\n",
    "SSE = np.sum((y - y_pred) ** 2) # Sum of Squared Errors\n",
    "SSR = np.sum((y_pred - np.mean(y)) ** 2) # Sum of Squares due to Regression\n",
    "SST = np.sum((y - np.mean(y)) ** 2) # Total Sum of Squares\n",
    "R_squared = 1 - (SSE / SST) # R-squared"
   ]
  },
  {
   "cell_type": "code",
   "execution_count": null,
   "id": "902ade82",
   "metadata": {},
   "outputs": [],
   "source": [
    "# Display regression parameters and metrics\n",
    "print('Regression Parameters:')\n",
    "print('Slope:', slope)\n",
    "print('Intercept:', intercept)\n",
    "\n",
    "print('\\nMetrics:')\n",
    "print('SSE:', SSE)\n",
    "print('SSR:', SSR)\n",
    "print('SST:', SST)\n",
    "print('R-squared:', R_squared)"
   ]
  }
 ],
 "metadata": {
  "kernelspec": {
   "display_name": "Python 3 (ipykernel)",
   "language": "python",
   "name": "python3"
  },
  "language_info": {
   "codemirror_mode": {
    "name": "ipython",
    "version": 3
   },
   "file_extension": ".py",
   "mimetype": "text/x-python",
   "name": "python",
   "nbconvert_exporter": "python",
   "pygments_lexer": "ipython3",
   "version": "3.9.13"
  }
 },
 "nbformat": 4,
 "nbformat_minor": 5
}
