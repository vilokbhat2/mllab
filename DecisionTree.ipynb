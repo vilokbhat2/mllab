{
 "cells": [
  {
   "cell_type": "code",
   "execution_count": 1,
   "id": "4eae0b3c",
   "metadata": {},
   "outputs": [],
   "source": [
    "import pandas as pd\n",
    "import matplotlib.pyplot as plt\n",
    "from sklearn.model_selection import train_test_split\n",
    "from sklearn import tree\n",
    "from sklearn.metrics import confusion_matrix, accuracy_score, precision_score, recall_score"
   ]
  },
  {
   "cell_type": "code",
   "execution_count": null,
   "id": "44cd9a23",
   "metadata": {},
   "outputs": [],
   "source": [
    "# Load the Zoo dataset\n",
    "data = pd.read_csv(\"zoo.csv\")"
   ]
  },
  {
   "cell_type": "code",
   "execution_count": null,
   "id": "accf2e55",
   "metadata": {},
   "outputs": [],
   "source": [
    "X = data.drop(columns=[\"animal_name\", \"class_type\"])\n",
    "y = data[\"class_type\"]\n",
    "# Split the data into training and testing sets\n",
    "X_train, X_test, y_train, y_test = train_test_split(X, y, test_size=0.3, random_state=42)\n"
   ]
  },
  {
   "cell_type": "code",
   "execution_count": null,
   "id": "0d699b60",
   "metadata": {},
   "outputs": [],
   "source": [
    "# Create a Decision Tree Classifier\n",
    "clf = tree.DecisionTreeClassifier(random_state=42)"
   ]
  },
  {
   "cell_type": "code",
   "execution_count": null,
   "id": "51efaa00",
   "metadata": {},
   "outputs": [],
   "source": [
    "# Train the classifier on the training data\n",
    "clf.fit(X_train, y_train)"
   ]
  },
  {
   "cell_type": "code",
   "execution_count": null,
   "id": "af31c4db",
   "metadata": {},
   "outputs": [],
   "source": [
    "plt.figure(figsize=(15, 10))\n",
    "tree.plot_tree(clf, feature_names=X.columns.tolist(), class_names=[str(i) for i in clf.classes_], filled=True, rounded=True)\n",
    "plt.show()"
   ]
  },
  {
   "cell_type": "code",
   "execution_count": null,
   "id": "47d1069c",
   "metadata": {},
   "outputs": [],
   "source": [
    "# Visualize the decision tree\n",
    "plt.figure(figsize=(15, 10))\n",
    "tree.plot_tree(clf, feature_names=X.columns.tolist(), class_names=[str(i) for i in clf.classes_], filled=True, rounded=True)\n",
    "plt.show()"
   ]
  },
  {
   "cell_type": "code",
   "execution_count": null,
   "id": "956b58d5",
   "metadata": {},
   "outputs": [],
   "source": [
    "# Predict class labels on the test set\n",
    "y_pred = clf.predict(X_test)\n"
   ]
  },
  {
   "cell_type": "code",
   "execution_count": null,
   "id": "1ed6ac64",
   "metadata": {},
   "outputs": [],
   "source": [
    "# Generate a confusion matrix\n",
    "confusion = confusion_matrix(y_test, y_pred)"
   ]
  },
  {
   "cell_type": "code",
   "execution_count": null,
   "id": "9f4939ec",
   "metadata": {},
   "outputs": [],
   "source": [
    "# Generate a confusion matrix\n",
    "confusion = confusion_matrix(y_test, y_pred)"
   ]
  },
  {
   "cell_type": "code",
   "execution_count": null,
   "id": "0fc9a9c0",
   "metadata": {},
   "outputs": [],
   "source": [
    "for class_label in unique_classes:\n",
    "    idx = y_test == class_label\n",
    "    true_positives = sum(y_pred[idx] == class_label)\n",
    "    false_positives = sum(y_pred[idx] != class_label)\n",
    "    false_negatives = sum(y_test[idx] != class_label)\n",
    "\n",
    "    accuracy = (true_positives + sum(y_pred[~idx] != class_label)) / len(y_test)\n",
    "    precision = true_positives / (true_positives + false_positives)\n",
    "    recall = true_positives / (true_positives + false_negatives)\n",
    "\n",
    "    class_accuracy[class_label] = accuracy\n",
    "    class_precision[class_label] = precision\n",
    "    class_recall[class_label] = recall\n",
    "\n",
    "# Print the confusion matrix\n",
    "print(\"Confusion Matrix:\")\n",
    "print(confusion)"
   ]
  },
  {
   "cell_type": "code",
   "execution_count": null,
   "id": "fe605cbb",
   "metadata": {},
   "outputs": [],
   "source": [
    "print(\"Accuracy:\")\n",
    "print(accuracy_score(y_test, y_pred))\n",
    "print(\"Precision:\")\n",
    "print(precision_score(y_test, y_pred, average='weighted'))\n",
    "print(\"Recall:\")\n",
    "print(recall_score(y_test, y_pred, average='weighted'))"
   ]
  }
 ],
 "metadata": {
  "kernelspec": {
   "display_name": "Python 3 (ipykernel)",
   "language": "python",
   "name": "python3"
  },
  "language_info": {
   "codemirror_mode": {
    "name": "ipython",
    "version": 3
   },
   "file_extension": ".py",
   "mimetype": "text/x-python",
   "name": "python",
   "nbconvert_exporter": "python",
   "pygments_lexer": "ipython3",
   "version": "3.9.13"
  }
 },
 "nbformat": 4,
 "nbformat_minor": 5
}
